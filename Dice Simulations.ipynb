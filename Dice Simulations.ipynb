{
 "cells": [
  {
   "cell_type": "markdown",
   "metadata": {},
   "source": [
    "# Define your strategy\n",
    "\n",
    "In this method define the strategy of Kurt. You have access to your dice, the number of dice Matt has left, and what Matt's bid was (if any). If it is your turn to bid first Matt's bid will be `None`."
   ]
  },
  {
   "cell_type": "code",
   "execution_count": 44,
   "metadata": {},
   "outputs": [],
   "source": [
    "def get_kurts_bid(dice, num_dice_matt_has, matts_bid=None):\n",
    "    \"\"\" Get Kurt's bid given his dice and how many dice Matt has.\n",
    "    \n",
    "    Return a tuple of what your bid is or return 'CALL' to call Matt's bid\n",
    "    \n",
    "    Example:\n",
    "        To bid three 5s, return (3, 5)\n",
    "        To call Matt's bid return 'CALL'\n",
    "    \"\"\"\n",
    "    \n",
    "    # This is set to the value of your dice, assuming you have only one\n",
    "    my_dice = dice[0]   \n",
    "        \n",
    "    if my_dice == 1:\n",
    "        if matts_bid is None:\n",
    "            return (1, 2) \n",
    "        else:\n",
    "            return (matts_bid[0] + 1, matts_bid[1])\n",
    "\n",
    "    else:\n",
    "        if matts_bid is None:\n",
    "            return (3, my_dice)  # Might as well try and trap him\n",
    "        elif (matts_bid[0], my_dice) > matts_bid:\n",
    "            return (matts_bid[0], my_dice)  # Hoping for [1, 1, 3] against [4]\n",
    "        else:\n",
    "            return (matts_bid[0] + 1, my_dice) # Hope he has all 1s? Not sure this will matter\n",
    "\n",
    "#     elif my_dice == 2:\n",
    "#         if matts_bid is None:\n",
    "#             return (3, my_dice) \n",
    "#         elif (matts_bid[0], my_dice) > matts_bid:\n",
    "#             return (matts_bid[0], my_dice)\n",
    "#         else:\n",
    "#             return (matts_bid[0] + 1, my_dice)\n",
    "        \n",
    "#     elif my_dice == 3:\n",
    "#         if matts_bid is None:\n",
    "#             return (3, my_dice) \n",
    "#         elif (matts_bid[0], my_dice) > matts_bid:\n",
    "#             return (matts_bid[0], my_dice)\n",
    "#         else:\n",
    "#             return (matts_bid[0] + 1, my_dice)\n",
    "        \n",
    "#     elif my_dice == 4:\n",
    "#         if matts_bid is None:\n",
    "#             return (3, my_dice) \n",
    "#         elif (matts_bid[0], my_dice) > matts_bid:\n",
    "#             return (matts_bid[0], my_dice)\n",
    "#         else:\n",
    "#             return (matts_bid[0] + 1, my_dice)\n",
    "        \n",
    "#     elif my_dice == 5:\n",
    "#         if matts_bid is None:\n",
    "#             return (3, my_dice) \n",
    "#         else:\n",
    "#             return (matts_bid[0] + 1, matts_bid[1])\n",
    "\n",
    "#     else: # 6\n",
    "#         if matts_bid is None:\n",
    "#             return (3, my_dice) \n",
    "#         else:\n",
    "#             return (matts_bid[0] + 1, matts_bid[1])"
   ]
  },
  {
   "cell_type": "markdown",
   "metadata": {},
   "source": [
    "# Run Simulations Here\n",
    "\n",
    "To run a simulation, edit your strategy above, then select the cell below and run.\n",
    "\n",
    "You may change `NUM_SIMULATIONS` to the number of simulations you want to run if you wish."
   ]
  },
  {
   "cell_type": "code",
   "execution_count": 56,
   "metadata": {},
   "outputs": [
    {
     "name": "stdout",
     "output_type": "stream",
     "text": [
      "Simulation Complete\n",
      "-------------------\n",
      "Num Simulations: 100,000\n",
      "Took:            1.6 seconds\n",
      "Kurt Wins:       45,432\n",
      "Win Percent:     45.43%\n",
      "Wins 1 in 2.20 times\n"
     ]
    }
   ],
   "source": [
    "# from time import monotonic\n",
    "NUM_SIMULATIONS      = 100000\n",
    "STARTING_DICE_KURT   = 1\n",
    "STARTING_DICE_MATT   = 2\n",
    "\n",
    "kurt_win_count = 0\n",
    "start = monotonic()\n",
    "for i in range(NUM_SIMULATIONS):\n",
    "    kurt_win_count += run_simulation(STARTING_DICE_KURT, STARTING_DICE_MATT, False)\n",
    "duration = monotonic() - start\n",
    "print(\"Simulation Complete\")\n",
    "print(\"-------------------\")\n",
    "print(\"Num Simulations: {:,}\".format(NUM_SIMULATIONS))\n",
    "print(\"Took:            {0:,.1f} seconds\".format(duration))\n",
    "print(\"Kurt Wins:       {:,}\".format(kurt_win_count))\n",
    "print(\"Win Percent:     {:.2%}\".format(kurt_win_count/NUM_SIMULATIONS))\n",
    "print(\"Wins 1 in {} times\".format(\"Infinite\" if kurt_win_count == 0 else \"{0:.2f}\".format(NUM_SIMULATIONS/kurt_win_count)))"
   ]
  },
  {
   "cell_type": "markdown",
   "metadata": {},
   "source": [
    "# Historical Simulations"
   ]
  },
  {
   "cell_type": "markdown",
   "metadata": {},
   "source": [
    "## Run 1 - The One-Upper\n",
    "To start, Kurt bids 1 of whatever he has. When Matt counters, Kurt bids one more than what Matt bid.\n",
    "\n",
    "I'm pretty sure this means Kurt wins if he has a `1` or whatever digit Matt has bid.\n",
    "\n",
    "```\n",
    "Simulation Complete\n",
    "-------------------\n",
    "Num Simulations: 10,000,000\n",
    "Took:            247.9 seconds\n",
    "Kurt Wins:       13,742\n",
    "Win Percent:     0.14%\n",
    "Wins 1 in 727.70 times\n",
    "```"
   ]
  },
  {
   "cell_type": "code",
   "execution_count": 42,
   "metadata": {},
   "outputs": [],
   "source": [
    "def get_kurts_bid(dice, num_dice_matt_has, matts_bid=None):  \n",
    "    # This is set to the value of your dice, assuming you have only one\n",
    "    my_dice = dice[0]   \n",
    "    \n",
    "    if matts_bid is None:\n",
    "        # If Matt has not bid yet start off with 1 of my dice\n",
    "        return (1, my_dice)\n",
    "    else:\n",
    "        # Return one more of what Matt said\n",
    "        return (matts_bid[0] + 1, matts_bid[1])"
   ]
  },
  {
   "cell_type": "markdown",
   "metadata": {},
   "source": [
    "## Run 2 - The Good Guesser\n",
    "To start, unless he has a 1, Kurt guesses 3 of whatever he has, hoping to trap Matt so he can't confidently come back and loses the call.\n",
    "\n",
    "```\n",
    "Simulation Complete\n",
    "-------------------\n",
    "Num Simulations: 10,000,000\n",
    "Took:            243.0 seconds\n",
    "Kurt Wins:       14,365\n",
    "Win Percent:     0.14%\n",
    "Wins 1 in 696.14 times\n",
    "```"
   ]
  },
  {
   "cell_type": "code",
   "execution_count": 50,
   "metadata": {},
   "outputs": [],
   "source": [
    "def get_kurts_bid(dice, num_dice_matt_has, matts_bid=None):\n",
    "    # This is set to the value of your dice, assuming you have only one\n",
    "    my_dice = dice[0]   \n",
    "    \n",
    "    if my_dice == 1:\n",
    "        if matts_bid is None:\n",
    "            return (1, 2) \n",
    "        else:\n",
    "            return (matts_bid[0] + 1, matts_bid[1])\n",
    "\n",
    "    else:\n",
    "        if matts_bid is None:\n",
    "            return (3, my_dice) \n",
    "        else:\n",
    "            return (matts_bid[0] + 1, matts_bid[1])"
   ]
  },
  {
   "cell_type": "markdown",
   "metadata": {},
   "source": [
    "## Run 3 - The End Gamer\n",
    "Same as Run 2 except let's be smarter at the end of the game. When it gets down to Matt having two or less dice Kurt wants to guess 2 of whatever his dice is.\n",
    "\n",
    "The hope is Matt rolls `[1, 3`] and Kurt rolls `[4]`. Matt guesses two 3s, Kurt comes back with two 4s and wins.\n",
    "\n",
    "```\n",
    "Simulation Complete\n",
    "-------------------\n",
    "Num Simulations: 10,000,000\n",
    "Took:            243.5 seconds\n",
    "Kurt Wins:       14,831\n",
    "Win Percent:     0.15%\n",
    "Wins 1 in 674.26 times\n",
    "```"
   ]
  },
  {
   "cell_type": "code",
   "execution_count": 48,
   "metadata": {},
   "outputs": [],
   "source": [
    "def get_kurts_bid(dice, num_dice_matt_has, matts_bid=None):\n",
    "    # This is set to the value of your dice, assuming you have only one\n",
    "    my_dice = dice[0]   \n",
    "    \n",
    "    # When Matt has 2 or less dice, guess 2 of whatever I have if I can, otherwise guess 3 of them\n",
    "    if num_dice_matt_has <= 2:\n",
    "        if (2, my_dice) > matts_bid:\n",
    "            return (2, my_dice)\n",
    "        return (3, my_dice)\n",
    "    \n",
    "    if my_dice == 1:\n",
    "        if matts_bid is None:\n",
    "            return (1, 2) \n",
    "        else:\n",
    "            return (matts_bid[0] + 1, matts_bid[1])\n",
    "\n",
    "    else:\n",
    "        if matts_bid is None:\n",
    "            return (3, my_dice) \n",
    "        else:\n",
    "            return (matts_bid[0] + 1, matts_bid[1])"
   ]
  },
  {
   "cell_type": "markdown",
   "metadata": {},
   "source": [
    "## Run 4 - The Finger Crosser\n",
    "Initial guess will be 3 of whatever Kurt has, hoping Matt has no choice but to call and is wrong.\n",
    "\n",
    "Then, hopes that Matt only had one natural roll of the number he called and the rest 1s. And also that Kurt's roll is higher than that natural number.\n",
    "\n",
    "I wouldn't have thought this would help that much but the results are astounding! Kurt wins about 6 times more often than before!\n",
    "\n",
    "```\n",
    "Simulation Complete\n",
    "-------------------\n",
    "Num Simulations: 10,000,000\n",
    "Took:            294.1 seconds\n",
    "Kurt Wins:       89,389\n",
    "Win Percent:     0.89%\n",
    "Wins 1 in 111.87 times\n",
    "```"
   ]
  },
  {
   "cell_type": "code",
   "execution_count": 46,
   "metadata": {},
   "outputs": [],
   "source": [
    "def get_kurts_bid(dice, num_dice_matt_has, matts_bid=None):\n",
    "    # This is set to the value of your dice, assuming you have only one\n",
    "    my_dice = dice[0]   \n",
    "    \n",
    "    # When Matt has 2 or less dice, guess 2 of whatever I have if I can, otherwise guess 3 of them\n",
    "    if num_dice_matt_has <= 2:\n",
    "        if (2, my_dice) > matts_bid:\n",
    "            return (2, my_dice)\n",
    "        return (3, my_dice)\n",
    "    \n",
    "    if my_dice == 1:\n",
    "        if matts_bid is None:\n",
    "            return (1, 2) \n",
    "        else:\n",
    "            return (matts_bid[0] + 1, matts_bid[1])\n",
    "\n",
    "    else:\n",
    "        if matts_bid is None:\n",
    "            return (3, my_dice)  # Might as well try and trap him\n",
    "        elif (matts_bid[0], my_dice) > matts_bid:\n",
    "            return (matts_bid[0], my_dice)  # Hoping for [1, 1, 3] against [4]\n",
    "        else:\n",
    "            return (matts_bid[0] + 1, my_dice) # Hope he has all 1s? Not sure this will matter"
   ]
  },
  {
   "cell_type": "markdown",
   "metadata": {},
   "source": [
    "## Run 5 - The Adjuster\n",
    "Same as Run 4 but without the end game strategy.\n",
    "\n",
    "The \"every turn\" strategy is now very similar to our old end game strategy and I think actually may be better. The previous end game strategy of guessing 2 of whatever Kurt has (if possible) doesn't account for a Matt roll of `[3, 4]` and a Kurt roll of `[5]`. Matt guesses one 4, Kurt should guess one 5 but would previously guess two 5s.\n",
    "\n",
    "```\n",
    "Simulation Complete\n",
    "-------------------\n",
    "Num Simulations: 10,000,000\n",
    "Took:            301.5 seconds\n",
    "Kurt Wins:       354,633\n",
    "Win Percent:     3.55%\n",
    "Wins 1 in 28.20 times\n",
    "```"
   ]
  },
  {
   "cell_type": "code",
   "execution_count": 52,
   "metadata": {},
   "outputs": [],
   "source": [
    "def get_kurts_bid(dice, num_dice_matt_has, matts_bid=None):\n",
    "    # This is set to the value of your dice, assuming you have only one\n",
    "    my_dice = dice[0]   \n",
    "        \n",
    "    if my_dice == 1:\n",
    "        if matts_bid is None:\n",
    "            return (1, 2) \n",
    "        else:\n",
    "            return (matts_bid[0] + 1, matts_bid[1])\n",
    "\n",
    "    else:\n",
    "        if matts_bid is None:\n",
    "            return (3, my_dice)  # Might as well try and trap him\n",
    "        elif (matts_bid[0], my_dice) > matts_bid:\n",
    "            return (matts_bid[0], my_dice)  # Hoping for [1, 1, 3] against [4]\n",
    "        else:\n",
    "            return (matts_bid[0] + 1, my_dice) # Hope he has all 1s? Not sure this will matter"
   ]
  },
  {
   "cell_type": "markdown",
   "metadata": {},
   "source": [
    "# Helper Functions\n",
    "\n",
    "You probably don't want to change anything below this line"
   ]
  },
  {
   "cell_type": "code",
   "execution_count": 3,
   "metadata": {},
   "outputs": [
    {
     "name": "stdout",
     "output_type": "stream",
     "text": [
      "Tests passed and function loaded\n"
     ]
    }
   ],
   "source": [
    "def get_matts_bid(dice, num_dice_kurt_has, kurts_bid=None):\n",
    "    \"\"\" Given some dice, return what should Matt bid.\n",
    "    \n",
    "    The strategy is fixed, bet the highest possible number guaranteed\n",
    "    to succeed. If that bid is not higher than the current bid, then call\n",
    "    \n",
    "    Returns:\n",
    "        (count, digit): \"I bid <count> <digit>s\"\n",
    "    \n",
    "    Example: dice = [1, 1, 3, 3, 5, 5] would bet four 5's (return (4, 5))\n",
    "    \"\"\"\n",
    "    bids = [0] * 7  # we want a count for every digit (ignore 0)\n",
    "    # see how many of each die we have\n",
    "    for die in dice:\n",
    "        bids[die] += 1\n",
    "    \n",
    "    # Find out which digit we should bid (which one has the most)\n",
    "    digit_to_bid = 2 # start with 2s, we won't bid wildcards\n",
    "    for i in range(3, 7):\n",
    "        if bids[i] >= bids[digit_to_bid]:\n",
    "            digit_to_bid = i\n",
    "    \n",
    "    # Bid the number of that digit plus the number of wild cards\n",
    "    my_bid = (bids[digit_to_bid] + bids[1], digit_to_bid)\n",
    "    \n",
    "    if kurts_bid is None or my_bid > kurts_bid:\n",
    "        return my_bid\n",
    "    elif kurts_bid == my_bid:\n",
    "        # In the case where Kurt bids exactly what I would have bid, I have \n",
    "        # no choice but to go one higher\n",
    "        return (my_bid[0] + 1, my_bid[1])\n",
    "    else:\n",
    "        return \"CALL\"\n",
    "            \n",
    "assert(get_matts_bid([1,2,3,4,5,6], 1) == (2,6))\n",
    "assert(get_matts_bid([1,1,1,1,1], 1) == (5,6))\n",
    "assert(get_matts_bid([3,4,5,2,2], 1) == (2,2))\n",
    "assert(get_matts_bid([3,4,5,2,2], 1, (2,2)) == (3,2))\n",
    "assert(get_matts_bid([3,4,5,2,2], 1, (2,3)) == \"CALL\")\n",
    "print(\"Tests passed and function loaded\")\n",
    "    "
   ]
  },
  {
   "cell_type": "code",
   "execution_count": 4,
   "metadata": {},
   "outputs": [
    {
     "data": {
      "text/plain": [
       "[1, 1, 3, 1, 5]"
      ]
     },
     "execution_count": 4,
     "metadata": {},
     "output_type": "execute_result"
    }
   ],
   "source": [
    "from random import randint\n",
    "def get_random_dice(num_dice):\n",
    "    \"\"\" Get a list of <num_dice> random dice rolls \"\"\"\n",
    "    return [randint(1,6) for _ in range(num_dice)]\n",
    "\n",
    "get_random_dice(5)"
   ]
  },
  {
   "cell_type": "code",
   "execution_count": 18,
   "metadata": {},
   "outputs": [
    {
     "name": "stdout",
     "output_type": "stream",
     "text": [
      "False\n",
      "----\n",
      "False\n"
     ]
    }
   ],
   "source": [
    "def run_simulation(num_kurt_dice, num_matt_dice, kurts_turn=True):\n",
    "    \"\"\" Run a simulation with a number of dice for Kurt and Matt\n",
    "    \n",
    "    Returns True if Kurt wins the game\n",
    "    \"\"\" \n",
    "    while num_kurt_dice and num_matt_dice:\n",
    "        kurt = get_random_dice(num_kurt_dice)\n",
    "        matt = get_random_dice(num_matt_dice)\n",
    "        #print(\"Kurt: {}  / Matt: {}   / Turn: {}\".format(kurt, matt, \"Kurt\" if kurts_turn else \"Matt\"))\n",
    "        kurt_wins = play_turn(kurt, matt, kurts_turn)\n",
    "        \n",
    "        #print(\"{} wins!\".format(\"Kurt\" if kurt_wins else \"Matt\"))\n",
    "        # It's the losers turn now\n",
    "        kurts_turn = not kurt_wins\n",
    "        \n",
    "        # Remove a dice from the loser\n",
    "        if kurt_wins:\n",
    "            num_matt_dice -= 1\n",
    "        else:\n",
    "            num_kurt_dice -= 1\n",
    "    \n",
    "    #print(\"SIMULATION OVER, {} WINS\".format(\"KURT\" if num_kurt_dice else \"MATT\"))\n",
    "    return num_kurt_dice > 0\n",
    "        \n",
    "def play_turn(kurt, matt, kurts_turn=True):\n",
    "    \"\"\" Play a turn. \n",
    "    \n",
    "    Go back and forth on the strategies until someone calls.\n",
    "    \n",
    "    Returns:\n",
    "       kurt_is_winner (True if Kurt wins)\n",
    "    \"\"\"\n",
    "    current_bid = None\n",
    "    while True:\n",
    "        if kurts_turn:\n",
    "            next_bid = get_kurts_bid(kurt, len(matt), current_bid)\n",
    "        else:\n",
    "            next_bid = get_matts_bid(matt, len(kurt), current_bid)\n",
    "        \n",
    "        #print(\"{} has bid {}\".format(\"Kurt\" if kurts_turn else \"Matt\", next_bid))\n",
    "        if next_bid == \"CALL\":\n",
    "            break\n",
    "            \n",
    "        assert(current_bid is None or next_bid > current_bid)\n",
    "       \n",
    "        # Set the current bid to the most recent and roll the turn over\n",
    "        current_bid = next_bid\n",
    "        kurts_turn = not kurts_turn\n",
    "    \n",
    "    bid_satisfied = check_bid(current_bid, matt + kurt)\n",
    "    # Turn variable indicates the person who made the call\n",
    "    # Kurt wins if he called (his turn) and bid not satisfied or vice versa\n",
    "    return kurts_turn != bid_satisfied\n",
    "\n",
    "def check_bid(bid, dice):\n",
    "    \"\"\" Return true if a bid has been satisfied given some dice \"\"\"\n",
    "    total = 0\n",
    "    for die in dice:\n",
    "        if die == 1 or die == bid[1]:\n",
    "            total += 1\n",
    "    return total >= bid[0]\n",
    "\n",
    "print(play_turn([3], [6,1,4,3,3]))\n",
    "print(\"----\")\n",
    "print(run_simulation(1,5))\n",
    "\n",
    "assert(check_bid((1, 3), [1, 2, 3, 4, 5]) == True)\n",
    "assert(check_bid((2, 3), [1, 2, 3, 4, 5]) == True)\n",
    "assert(check_bid((3, 3), [1, 2, 3, 4, 5]) == False)\n",
    "assert(check_bid((1, 6), [1, 2, 3, 4, 5]) == True)\n",
    "assert(check_bid((2, 6), [1, 2, 3, 4, 5]) == False)"
   ]
  },
  {
   "cell_type": "code",
   "execution_count": 72,
   "metadata": {},
   "outputs": [
    {
     "data": {
      "text/html": [
       "<script>requirejs.config({paths: { 'plotly': ['https://cdn.plot.ly/plotly-latest.min']},});if(!window.Plotly) {{require(['plotly'],function(plotly) {window.Plotly=plotly;});}}</script>"
      ],
      "text/vnd.plotly.v1+html": [
       "<script>requirejs.config({paths: { 'plotly': ['https://cdn.plot.ly/plotly-latest.min']},});if(!window.Plotly) {{require(['plotly'],function(plotly) {window.Plotly=plotly;});}}</script>"
      ]
     },
     "metadata": {},
     "output_type": "display_data"
    },
    {
     "data": {
      "application/vnd.plotly.v1+json": {
       "data": [
        {
         "type": "bar",
         "x": [
          0,
          1,
          2,
          3,
          4,
          5,
          6
         ],
         "y": [
          8.44,
          27.05,
          32.55,
          21.77,
          8.36,
          1.73,
          0.1
         ]
        }
       ],
       "layout": {
        "title": "percentage of time the frequency of a 4 is N"
       }
      },
      "text/html": [
       "<div id=\"5d8c1fb2-b2ff-4c82-912a-e499a2b54e63\" style=\"height: 525px; width: 100%;\" class=\"plotly-graph-div\"></div><script type=\"text/javascript\">require([\"plotly\"], function(Plotly) { window.PLOTLYENV=window.PLOTLYENV || {};window.PLOTLYENV.BASE_URL=\"https://plot.ly\";Plotly.newPlot(\"5d8c1fb2-b2ff-4c82-912a-e499a2b54e63\", [{\"type\": \"bar\", \"x\": [0, 1, 2, 3, 4, 5, 6], \"y\": [8.44, 27.05, 32.55, 21.77, 8.36, 1.73, 0.1]}], {\"title\": \"percentage of time the frequency of a 4 is N\"}, {\"showLink\": true, \"linkText\": \"Export to plot.ly\"})});</script>"
      ],
      "text/vnd.plotly.v1+html": [
       "<div id=\"5d8c1fb2-b2ff-4c82-912a-e499a2b54e63\" style=\"height: 525px; width: 100%;\" class=\"plotly-graph-div\"></div><script type=\"text/javascript\">require([\"plotly\"], function(Plotly) { window.PLOTLYENV=window.PLOTLYENV || {};window.PLOTLYENV.BASE_URL=\"https://plot.ly\";Plotly.newPlot(\"5d8c1fb2-b2ff-4c82-912a-e499a2b54e63\", [{\"type\": \"bar\", \"x\": [0, 1, 2, 3, 4, 5, 6], \"y\": [8.44, 27.05, 32.55, 21.77, 8.36, 1.73, 0.1]}], {\"title\": \"percentage of time the frequency of a 4 is N\"}, {\"showLink\": true, \"linkText\": \"Export to plot.ly\"})});</script>"
      ]
     },
     "metadata": {},
     "output_type": "display_data"
    }
   ],
   "source": [
    "import plotly  \n",
    "import plotly.graph_objs as go\n",
    "\n",
    "ITERS = 10000\n",
    "NUM_DICE = 6\n",
    "counts = [0] * 7\n",
    "for i in range(ITERS):\n",
    "    dice = get_random_dice(NUM_DICE)\n",
    "    count = 0\n",
    "    for die in dice:\n",
    "        if die == 1 or die == 4:\n",
    "            count += 1\n",
    "    counts[count] += 1\n",
    "    \n",
    "\n",
    "data = [go.Bar(\n",
    "            x=list(range(7)),\n",
    "            y=[100*x/ITERS for x in counts]\n",
    "    )]\n",
    "\n",
    "plotly.offline.init_notebook_mode(connected=True)\n",
    "\n",
    "plotly.offline.iplot({\n",
    "    \"data\": data,\n",
    "    \"layout\": go.Layout(title=\"percentage of time the frequency of a 4 is N\")\n",
    "})"
   ]
  }
 ],
 "metadata": {
  "kernelspec": {
   "display_name": "Python 3",
   "language": "python",
   "name": "python3"
  },
  "language_info": {
   "codemirror_mode": {
    "name": "ipython",
    "version": 3
   },
   "file_extension": ".py",
   "mimetype": "text/x-python",
   "name": "python",
   "nbconvert_exporter": "python",
   "pygments_lexer": "ipython3",
   "version": "3.4.1"
  }
 },
 "nbformat": 4,
 "nbformat_minor": 2
}
